{
 "cells": [
  {
   "cell_type": "markdown",
   "id": "a0a72e59-90f7-460c-9fd2-157a5abfb4e1",
   "metadata": {},
   "source": [
    "# P r o j e c t:   A u t o m a t i c    F i l e    S o r t e r "
   ]
  },
  {
   "cell_type": "code",
   "execution_count": null,
   "id": "bbabc3a5-1dd1-457f-8810-a8c155071fe7",
   "metadata": {},
   "outputs": [],
   "source": [
    "import os\n",
    "import shutil\n",
    "\n",
    "\n",
    "path = r'H:\\Mi unidad\\PARTICULAR\\PERSONAL DEVELOPMENT\\CURSOS PROFESIONALES\\Python Certificate\\Organizing Folders\\\\'\n",
    "\n",
    "files = os.listdir(path)\n",
    "\n",
    "folder_name = ['CSV Files', 'Text Files', 'Image Files', 'Excel Files']\n",
    "\n",
    "\n",
    "\n",
    "for folder in folder_name:\n",
    "    if not os.path.exists(path + folder):\n",
    "        os.makedirs(path + folder)\n",
    "\n",
    "        \n",
    "\n",
    "for file in files:\n",
    "    if \".csv\" in file and not os.path.exists(path + 'CSV Files\\\\' + file):\n",
    "        shutil.move(path + file , path + 'CSV Files\\\\' + file)\n",
    "    elif \".txt\" in file and not os.path.exists(path + 'Text Files\\\\' + file):\n",
    "        shutil.move(path + file , path + 'Text Files\\\\' + file)\n",
    "    elif \".jpg\" in file and not os.path.exists(path + 'Image Files\\\\' + file):\n",
    "        shutil.move(path + file , path + 'Image Files\\\\' + file)\n",
    "    elif \".xlsx\" in file and not os.path.exists(path + 'Excel Files\\\\' + file):\n",
    "        shutil.move(path + file , path + 'Excel Files\\\\' + file)\n",
    "\n",
    "\n"
   ]
  }
 ],
 "metadata": {
  "kernelspec": {
   "display_name": "Python 3 (ipykernel)",
   "language": "python",
   "name": "python3"
  },
  "language_info": {
   "codemirror_mode": {
    "name": "ipython",
    "version": 3
   },
   "file_extension": ".py",
   "mimetype": "text/x-python",
   "name": "python",
   "nbconvert_exporter": "python",
   "pygments_lexer": "ipython3",
   "version": "3.11.7"
  }
 },
 "nbformat": 4,
 "nbformat_minor": 5
}
